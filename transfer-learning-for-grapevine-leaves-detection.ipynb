{
 "cells": [
  {
   "cell_type": "markdown",
   "id": "b7226014",
   "metadata": {
    "papermill": {
     "duration": 0.003496,
     "end_time": "2025-01-02T05:58:24.868459",
     "exception": false,
     "start_time": "2025-01-02T05:58:24.864963",
     "status": "completed"
    },
    "tags": []
   },
   "source": [
    "# <font color='#728C11'>Transfer Learning for Grapevine Leaves Detection"
   ]
  },
  {
   "cell_type": "markdown",
   "id": "23bf8679",
   "metadata": {
    "jp-MarkdownHeadingCollapsed": true,
    "papermill": {
     "duration": 0.004575,
     "end_time": "2025-01-02T05:58:24.876327",
     "exception": false,
     "start_time": "2025-01-02T05:58:24.871752",
     "status": "completed"
    },
    "tags": []
   },
   "source": [
    "## <font color='#728C11'>Project Overview</font>\n",
    "\n",
    "This project leverages **Convolutional Neural Networks (CNN)** to classify different varieties of grapevine leaves in controlled environments. The objective is to automate the identification process of grapevine leaf types, enhancing efficiency and accuracy in agricultural settings. By employing advanced machine learning techniques, this model can support sorting, grading, and quality assessment of grapevine leaves.\n",
    "\n",
    "### <font color='#728C11'> Key Features:\n",
    "- **Dataset:**  \n",
    "  The model is trained on a curated dataset of labeled grapevine leaf images. The dataset contains five distinct classifications:\n",
    "  - **Ak**\n",
    "  - **Ala_Idris**\n",
    "  - **Buzgulu**\n",
    "  - **Dimnit**\n",
    "  - **Nazli**\n",
    "\n",
    "- **Model Architecture:**  \n",
    "  The model employs **VGG16**, a pre-trained CNN architecture, through **transfer learning**. This approach leverages the rich feature extraction capabilities of Modified DenseNet-121 while fine-tuning the model for the specific task of classifying these five varieties of grapevine leaves.\n",
    "\n",
    "- **Preprocessing:**  \n",
    "  Images were resized to 224x224, normalized, and converted to RGB format to ensure compatibility with the VGG16 input requirements. These preprocessing steps improve the model's generalization to unseen data."
   ]
  },
  {
   "cell_type": "markdown",
   "id": "5dd3ee92",
   "metadata": {
    "papermill": {
     "duration": 0.002646,
     "end_time": "2025-01-02T05:58:24.883873",
     "exception": false,
     "start_time": "2025-01-02T05:58:24.881227",
     "status": "completed"
    },
    "tags": []
   },
   "source": [
    "## <font color='#728C11'> Requirements"
   ]
  },
  {
   "cell_type": "code",
   "execution_count": 66,
   "id": "6e5d7e10",
   "metadata": {
    "papermill": {
     "duration": 7.712782,
     "end_time": "2025-01-02T05:58:32.599474",
     "exception": false,
     "start_time": "2025-01-02T05:58:24.886692",
     "status": "completed"
    },
    "tags": []
   },
   "outputs": [],
   "source": [
    "from keras.models import Sequential\n",
    "from keras.layers import Dense, Conv2D, Flatten, Input, MaxPooling2D, Dropout, BatchNormalization, Reshape\n",
    "from tensorflow.keras.applications import VGG16, ResNet50\n",
    "from tensorflow.keras.preprocessing.image import ImageDataGenerator\n",
    "import os\n",
    "import pandas as pd\n",
    "from sklearn.metrics import accuracy_score\n",
    "from tensorflow.keras.preprocessing import image\n",
    "import numpy as np\n",
    "from tensorflow.keras.applications.vgg16 import preprocess_input, decode_predictions\n",
    "from sklearn.metrics import confusion_matrix, ConfusionMatrixDisplay\n",
    "import matplotlib.pyplot as plt\n",
    "from tensorflow.keras.applications import EfficientNetB0\n",
    "from tensorflow.keras import layers, models\n",
    "\n",
    "import warnings\n",
    "warnings.filterwarnings(\"ignore\")\n"
   ]
  },
  {
   "cell_type": "markdown",
   "id": "c1d93254",
   "metadata": {
    "papermill": {
     "duration": 0.002705,
     "end_time": "2025-01-02T05:58:32.605401",
     "exception": false,
     "start_time": "2025-01-02T05:58:32.602696",
     "status": "completed"
    },
    "tags": []
   },
   "source": [
    "## <font color='#728C11'>Import Data"
   ]
  },
  {
   "cell_type": "code",
   "execution_count": 69,
   "id": "10dced10",
   "metadata": {
    "papermill": {
     "duration": 0.014243,
     "end_time": "2025-01-02T05:58:32.622393",
     "exception": false,
     "start_time": "2025-01-02T05:58:32.608150",
     "status": "completed"
    },
    "tags": []
   },
   "outputs": [
    {
     "data": {
      "text/plain": [
       "['Ak', 'Ala_Idris', 'Buzgulu', 'Dimnit', 'Nazli']"
      ]
     },
     "execution_count": 69,
     "metadata": {},
     "output_type": "execute_result"
    }
   ],
   "source": [
    "img_path='C:\\\\Users\\\\mvara\\\\Downloads\\\\Grapevine_Leaves_Image_Dataset'\n",
    "os.listdir(img_path)"
   ]
  },
  {
   "cell_type": "markdown",
   "id": "2e63b7b0",
   "metadata": {
    "papermill": {
     "duration": 0.002681,
     "end_time": "2025-01-02T05:58:32.628016",
     "exception": false,
     "start_time": "2025-01-02T05:58:32.625335",
     "status": "completed"
    },
    "tags": []
   },
   "source": [
    "## <font color='#728C11'> Transfer Learning with VGG16"
   ]
  },
  {
   "cell_type": "code",
   "execution_count": 87,
   "id": "14c4ef64",
   "metadata": {
    "papermill": {
     "duration": 1.990175,
     "end_time": "2025-01-02T05:58:34.620994",
     "exception": false,
     "start_time": "2025-01-02T05:58:32.630819",
     "status": "completed"
    },
    "tags": []
   },
   "outputs": [
    {
     "name": "stdout",
     "output_type": "stream",
     "text": [
      "Found 400 images belonging to 5 classes.\n",
      "Found 100 images belonging to 5 classes.\n"
     ]
    }
   ],
   "source": [
    "from tensorflow.keras.applications import DenseNet121\n",
    "\n",
    "\n",
    "# Define dataset parameters\n",
    "data_dir = 'C:\\\\Users\\\\mvara\\\\Downloads\\\\Grapevine_Leaves_Image_Dataset'\n",
    "img_width, img_height = 224,224\n",
    "batch_size = 32\n",
    "\n",
    "# Enhanced ImageDataGenerator with data augmentation for training\n",
    "datagen = ImageDataGenerator(\n",
    "    rescale=1/255,\n",
    "    validation_split=0.2,\n",
    "    rotation_range=20,\n",
    "    width_shift_range=0.2,\n",
    "    height_shift_range=0.2,\n",
    "    shear_range=0.2,\n",
    "    zoom_range=0.2,\n",
    "    horizontal_flip=True,\n",
    "    fill_mode='nearest'\n",
    ")\n",
    "\n",
    "# Training data generator (with shuffling)\n",
    "train_datagen = datagen.flow_from_directory(\n",
    "    directory=data_dir,\n",
    "    target_size=(224,224),\n",
    "    batch_size=batch_size,\n",
    "    class_mode='sparse',\n",
    "    subset='training',\n",
    "    shuffle=True\n",
    ")\n",
    "\n",
    "# Validation data generator (without shuffling)\n",
    "val_datagen = datagen.flow_from_directory(\n",
    "    directory=data_dir,\n",
    "    target_size=(img_width, img_height),\n",
    "    batch_size=batch_size,\n",
    "    class_mode='sparse',\n",
    "    subset='validation',\n",
    "    shuffle=False\n",
    ")\n",
    "\n",
    "# Determine the number of classes from the data\n",
    "num_classes = len(train_datagen.class_indices)\n",
    "\n",
    "# Load DenseNet-121 base model with pretrained ImageNet weights (exclude top layers)\n",
    "base_model = DenseNet121(\n",
    "    weights='imagenet', \n",
    "    input_shape=(img_width, img_height, 3), \n",
    "    include_top=False\n",
    ")\n",
    "\n"
   ]
  },
  {
   "cell_type": "code",
   "execution_count": 88,
   "id": "7ba9e72a",
   "metadata": {
    "papermill": {
     "duration": 0.020855,
     "end_time": "2025-01-02T05:58:34.645901",
     "exception": false,
     "start_time": "2025-01-02T05:58:34.625046",
     "status": "completed"
    },
    "tags": []
   },
   "outputs": [],
   "source": [
    "model=Sequential()\n",
    "model.add(base_model)\n",
    "for layer in base_model.layers:\n",
    "    layer.trainable=False\n",
    "model.add(Flatten())\n",
    "model.add(Dense(1024,activation='relu'))\n",
    "model.add(Dense(5,activation='softmax'))\n",
    "model.compile(optimizer ='adam',loss='sparse_categorical_crossentropy',metrics=['accuracy'])"
   ]
  },
  {
   "cell_type": "code",
   "execution_count": 90,
   "id": "52f9be9b-3e90-444f-9a9b-ae8b90724e7f",
   "metadata": {},
   "outputs": [
    {
     "data": {
      "text/html": [
       "<pre style=\"white-space:pre;overflow-x:auto;line-height:normal;font-family:Menlo,'DejaVu Sans Mono',consolas,'Courier New',monospace\"><span style=\"font-weight: bold\">Model: \"sequential_13\"</span>\n",
       "</pre>\n"
      ],
      "text/plain": [
       "\u001b[1mModel: \"sequential_13\"\u001b[0m\n"
      ]
     },
     "metadata": {},
     "output_type": "display_data"
    },
    {
     "data": {
      "text/html": [
       "<pre style=\"white-space:pre;overflow-x:auto;line-height:normal;font-family:Menlo,'DejaVu Sans Mono',consolas,'Courier New',monospace\">┏━━━━━━━━━━━━━━━━━━━━━━━━━━━━━━━━━━━━━━┳━━━━━━━━━━━━━━━━━━━━━━━━━━━━━┳━━━━━━━━━━━━━━━━━┓\n",
       "┃<span style=\"font-weight: bold\"> Layer (type)                         </span>┃<span style=\"font-weight: bold\"> Output Shape                </span>┃<span style=\"font-weight: bold\">         Param # </span>┃\n",
       "┡━━━━━━━━━━━━━━━━━━━━━━━━━━━━━━━━━━━━━━╇━━━━━━━━━━━━━━━━━━━━━━━━━━━━━╇━━━━━━━━━━━━━━━━━┩\n",
       "│ densenet121 (<span style=\"color: #0087ff; text-decoration-color: #0087ff\">Functional</span>)             │ (<span style=\"color: #00d7ff; text-decoration-color: #00d7ff\">None</span>, <span style=\"color: #00af00; text-decoration-color: #00af00\">7</span>, <span style=\"color: #00af00; text-decoration-color: #00af00\">7</span>, <span style=\"color: #00af00; text-decoration-color: #00af00\">1024</span>)          │       <span style=\"color: #00af00; text-decoration-color: #00af00\">7,037,504</span> │\n",
       "├──────────────────────────────────────┼─────────────────────────────┼─────────────────┤\n",
       "│ flatten_13 (<span style=\"color: #0087ff; text-decoration-color: #0087ff\">Flatten</span>)                 │ (<span style=\"color: #00d7ff; text-decoration-color: #00d7ff\">None</span>, <span style=\"color: #00af00; text-decoration-color: #00af00\">50176</span>)               │               <span style=\"color: #00af00; text-decoration-color: #00af00\">0</span> │\n",
       "├──────────────────────────────────────┼─────────────────────────────┼─────────────────┤\n",
       "│ dense_26 (<span style=\"color: #0087ff; text-decoration-color: #0087ff\">Dense</span>)                     │ (<span style=\"color: #00d7ff; text-decoration-color: #00d7ff\">None</span>, <span style=\"color: #00af00; text-decoration-color: #00af00\">1024</span>)                │      <span style=\"color: #00af00; text-decoration-color: #00af00\">51,381,248</span> │\n",
       "├──────────────────────────────────────┼─────────────────────────────┼─────────────────┤\n",
       "│ dense_27 (<span style=\"color: #0087ff; text-decoration-color: #0087ff\">Dense</span>)                     │ (<span style=\"color: #00d7ff; text-decoration-color: #00d7ff\">None</span>, <span style=\"color: #00af00; text-decoration-color: #00af00\">5</span>)                   │           <span style=\"color: #00af00; text-decoration-color: #00af00\">5,125</span> │\n",
       "└──────────────────────────────────────┴─────────────────────────────┴─────────────────┘\n",
       "</pre>\n"
      ],
      "text/plain": [
       "┏━━━━━━━━━━━━━━━━━━━━━━━━━━━━━━━━━━━━━━┳━━━━━━━━━━━━━━━━━━━━━━━━━━━━━┳━━━━━━━━━━━━━━━━━┓\n",
       "┃\u001b[1m \u001b[0m\u001b[1mLayer (type)                        \u001b[0m\u001b[1m \u001b[0m┃\u001b[1m \u001b[0m\u001b[1mOutput Shape               \u001b[0m\u001b[1m \u001b[0m┃\u001b[1m \u001b[0m\u001b[1m        Param #\u001b[0m\u001b[1m \u001b[0m┃\n",
       "┡━━━━━━━━━━━━━━━━━━━━━━━━━━━━━━━━━━━━━━╇━━━━━━━━━━━━━━━━━━━━━━━━━━━━━╇━━━━━━━━━━━━━━━━━┩\n",
       "│ densenet121 (\u001b[38;5;33mFunctional\u001b[0m)             │ (\u001b[38;5;45mNone\u001b[0m, \u001b[38;5;34m7\u001b[0m, \u001b[38;5;34m7\u001b[0m, \u001b[38;5;34m1024\u001b[0m)          │       \u001b[38;5;34m7,037,504\u001b[0m │\n",
       "├──────────────────────────────────────┼─────────────────────────────┼─────────────────┤\n",
       "│ flatten_13 (\u001b[38;5;33mFlatten\u001b[0m)                 │ (\u001b[38;5;45mNone\u001b[0m, \u001b[38;5;34m50176\u001b[0m)               │               \u001b[38;5;34m0\u001b[0m │\n",
       "├──────────────────────────────────────┼─────────────────────────────┼─────────────────┤\n",
       "│ dense_26 (\u001b[38;5;33mDense\u001b[0m)                     │ (\u001b[38;5;45mNone\u001b[0m, \u001b[38;5;34m1024\u001b[0m)                │      \u001b[38;5;34m51,381,248\u001b[0m │\n",
       "├──────────────────────────────────────┼─────────────────────────────┼─────────────────┤\n",
       "│ dense_27 (\u001b[38;5;33mDense\u001b[0m)                     │ (\u001b[38;5;45mNone\u001b[0m, \u001b[38;5;34m5\u001b[0m)                   │           \u001b[38;5;34m5,125\u001b[0m │\n",
       "└──────────────────────────────────────┴─────────────────────────────┴─────────────────┘\n"
      ]
     },
     "metadata": {},
     "output_type": "display_data"
    },
    {
     "data": {
      "text/html": [
       "<pre style=\"white-space:pre;overflow-x:auto;line-height:normal;font-family:Menlo,'DejaVu Sans Mono',consolas,'Courier New',monospace\"><span style=\"font-weight: bold\"> Total params: </span><span style=\"color: #00af00; text-decoration-color: #00af00\">161,196,625</span> (614.92 MB)\n",
       "</pre>\n"
      ],
      "text/plain": [
       "\u001b[1m Total params: \u001b[0m\u001b[38;5;34m161,196,625\u001b[0m (614.92 MB)\n"
      ]
     },
     "metadata": {},
     "output_type": "display_data"
    },
    {
     "data": {
      "text/html": [
       "<pre style=\"white-space:pre;overflow-x:auto;line-height:normal;font-family:Menlo,'DejaVu Sans Mono',consolas,'Courier New',monospace\"><span style=\"font-weight: bold\"> Trainable params: </span><span style=\"color: #00af00; text-decoration-color: #00af00\">51,386,373</span> (196.02 MB)\n",
       "</pre>\n"
      ],
      "text/plain": [
       "\u001b[1m Trainable params: \u001b[0m\u001b[38;5;34m51,386,373\u001b[0m (196.02 MB)\n"
      ]
     },
     "metadata": {},
     "output_type": "display_data"
    },
    {
     "data": {
      "text/html": [
       "<pre style=\"white-space:pre;overflow-x:auto;line-height:normal;font-family:Menlo,'DejaVu Sans Mono',consolas,'Courier New',monospace\"><span style=\"font-weight: bold\"> Non-trainable params: </span><span style=\"color: #00af00; text-decoration-color: #00af00\">7,037,504</span> (26.85 MB)\n",
       "</pre>\n"
      ],
      "text/plain": [
       "\u001b[1m Non-trainable params: \u001b[0m\u001b[38;5;34m7,037,504\u001b[0m (26.85 MB)\n"
      ]
     },
     "metadata": {},
     "output_type": "display_data"
    },
    {
     "data": {
      "text/html": [
       "<pre style=\"white-space:pre;overflow-x:auto;line-height:normal;font-family:Menlo,'DejaVu Sans Mono',consolas,'Courier New',monospace\"><span style=\"font-weight: bold\"> Optimizer params: </span><span style=\"color: #00af00; text-decoration-color: #00af00\">102,772,748</span> (392.05 MB)\n",
       "</pre>\n"
      ],
      "text/plain": [
       "\u001b[1m Optimizer params: \u001b[0m\u001b[38;5;34m102,772,748\u001b[0m (392.05 MB)\n"
      ]
     },
     "metadata": {},
     "output_type": "display_data"
    }
   ],
   "source": [
    "model.summary()\n"
   ]
  },
  {
   "cell_type": "code",
   "execution_count": 89,
   "id": "4ed7598a",
   "metadata": {
    "papermill": {
     "duration": 249.64273,
     "end_time": "2025-01-02T06:02:44.292053",
     "exception": false,
     "start_time": "2025-01-02T05:58:34.649323",
     "status": "completed"
    },
    "tags": []
   },
   "outputs": [
    {
     "name": "stdout",
     "output_type": "stream",
     "text": [
      "Epoch 1/25\n",
      "\u001b[1m13/13\u001b[0m \u001b[32m━━━━━━━━━━━━━━━━━━━━\u001b[0m\u001b[37m\u001b[0m \u001b[1m131s\u001b[0m 7s/step - accuracy: 0.2749 - loss: 55.7281 - val_accuracy: 0.4000 - val_loss: 19.2574\n",
      "Epoch 2/25\n",
      "\u001b[1m13/13\u001b[0m \u001b[32m━━━━━━━━━━━━━━━━━━━━\u001b[0m\u001b[37m\u001b[0m \u001b[1m125s\u001b[0m 6s/step - accuracy: 0.4591 - loss: 11.7624 - val_accuracy: 0.5600 - val_loss: 3.8999\n",
      "Epoch 3/25\n",
      "\u001b[1m13/13\u001b[0m \u001b[32m━━━━━━━━━━━━━━━━━━━━\u001b[0m\u001b[37m\u001b[0m \u001b[1m72s\u001b[0m 5s/step - accuracy: 0.5902 - loss: 3.1469 - val_accuracy: 0.7600 - val_loss: 0.9844\n",
      "Epoch 4/25\n",
      "\u001b[1m13/13\u001b[0m \u001b[32m━━━━━━━━━━━━━━━━━━━━\u001b[0m\u001b[37m\u001b[0m \u001b[1m73s\u001b[0m 6s/step - accuracy: 0.6984 - loss: 1.4785 - val_accuracy: 0.7100 - val_loss: 0.9274\n",
      "Epoch 5/25\n",
      "\u001b[1m13/13\u001b[0m \u001b[32m━━━━━━━━━━━━━━━━━━━━\u001b[0m\u001b[37m\u001b[0m \u001b[1m72s\u001b[0m 6s/step - accuracy: 0.7243 - loss: 1.1585 - val_accuracy: 0.7200 - val_loss: 0.9196\n",
      "Epoch 6/25\n",
      "\u001b[1m13/13\u001b[0m \u001b[32m━━━━━━━━━━━━━━━━━━━━\u001b[0m\u001b[37m\u001b[0m \u001b[1m78s\u001b[0m 6s/step - accuracy: 0.7370 - loss: 0.8693 - val_accuracy: 0.6500 - val_loss: 1.3794\n",
      "Epoch 7/25\n",
      "\u001b[1m13/13\u001b[0m \u001b[32m━━━━━━━━━━━━━━━━━━━━\u001b[0m\u001b[37m\u001b[0m \u001b[1m74s\u001b[0m 6s/step - accuracy: 0.7834 - loss: 0.7397 - val_accuracy: 0.8700 - val_loss: 0.5511\n",
      "Epoch 8/25\n",
      "\u001b[1m13/13\u001b[0m \u001b[32m━━━━━━━━━━━━━━━━━━━━\u001b[0m\u001b[37m\u001b[0m \u001b[1m81s\u001b[0m 6s/step - accuracy: 0.8477 - loss: 0.3778 - val_accuracy: 0.8100 - val_loss: 0.6005\n",
      "Epoch 9/25\n",
      "\u001b[1m13/13\u001b[0m \u001b[32m━━━━━━━━━━━━━━━━━━━━\u001b[0m\u001b[37m\u001b[0m \u001b[1m72s\u001b[0m 5s/step - accuracy: 0.8468 - loss: 0.4683 - val_accuracy: 0.8600 - val_loss: 0.5670\n",
      "Epoch 10/25\n",
      "\u001b[1m13/13\u001b[0m \u001b[32m━━━━━━━━━━━━━━━━━━━━\u001b[0m\u001b[37m\u001b[0m \u001b[1m81s\u001b[0m 6s/step - accuracy: 0.8677 - loss: 0.4353 - val_accuracy: 0.8600 - val_loss: 0.5087\n",
      "Epoch 11/25\n",
      "\u001b[1m13/13\u001b[0m \u001b[32m━━━━━━━━━━━━━━━━━━━━\u001b[0m\u001b[37m\u001b[0m \u001b[1m77s\u001b[0m 6s/step - accuracy: 0.8521 - loss: 0.4570 - val_accuracy: 0.7700 - val_loss: 0.7671\n",
      "Epoch 12/25\n",
      "\u001b[1m13/13\u001b[0m \u001b[32m━━━━━━━━━━━━━━━━━━━━\u001b[0m\u001b[37m\u001b[0m \u001b[1m78s\u001b[0m 6s/step - accuracy: 0.8169 - loss: 0.5170 - val_accuracy: 0.6500 - val_loss: 1.5429\n",
      "Epoch 13/25\n",
      "\u001b[1m13/13\u001b[0m \u001b[32m━━━━━━━━━━━━━━━━━━━━\u001b[0m\u001b[37m\u001b[0m \u001b[1m83s\u001b[0m 6s/step - accuracy: 0.8455 - loss: 0.5305 - val_accuracy: 0.8400 - val_loss: 0.6076\n",
      "Epoch 14/25\n",
      "\u001b[1m13/13\u001b[0m \u001b[32m━━━━━━━━━━━━━━━━━━━━\u001b[0m\u001b[37m\u001b[0m \u001b[1m131s\u001b[0m 5s/step - accuracy: 0.8583 - loss: 0.4195 - val_accuracy: 0.8800 - val_loss: 0.4879\n",
      "Epoch 15/25\n",
      "\u001b[1m13/13\u001b[0m \u001b[32m━━━━━━━━━━━━━━━━━━━━\u001b[0m\u001b[37m\u001b[0m \u001b[1m77s\u001b[0m 6s/step - accuracy: 0.8787 - loss: 0.3625 - val_accuracy: 0.8900 - val_loss: 0.4891\n",
      "Epoch 16/25\n",
      "\u001b[1m13/13\u001b[0m \u001b[32m━━━━━━━━━━━━━━━━━━━━\u001b[0m\u001b[37m\u001b[0m \u001b[1m76s\u001b[0m 6s/step - accuracy: 0.8331 - loss: 0.5308 - val_accuracy: 0.8800 - val_loss: 0.5676\n",
      "Epoch 17/25\n",
      "\u001b[1m13/13\u001b[0m \u001b[32m━━━━━━━━━━━━━━━━━━━━\u001b[0m\u001b[37m\u001b[0m \u001b[1m73s\u001b[0m 6s/step - accuracy: 0.8492 - loss: 0.5079 - val_accuracy: 0.8900 - val_loss: 0.4073\n",
      "Epoch 18/25\n",
      "\u001b[1m13/13\u001b[0m \u001b[32m━━━━━━━━━━━━━━━━━━━━\u001b[0m\u001b[37m\u001b[0m \u001b[1m79s\u001b[0m 6s/step - accuracy: 0.8615 - loss: 0.3758 - val_accuracy: 0.7300 - val_loss: 1.2852\n",
      "Epoch 19/25\n",
      "\u001b[1m13/13\u001b[0m \u001b[32m━━━━━━━━━━━━━━━━━━━━\u001b[0m\u001b[37m\u001b[0m \u001b[1m82s\u001b[0m 6s/step - accuracy: 0.7866 - loss: 0.6947 - val_accuracy: 0.9100 - val_loss: 0.4707\n",
      "Epoch 20/25\n",
      "\u001b[1m13/13\u001b[0m \u001b[32m━━━━━━━━━━━━━━━━━━━━\u001b[0m\u001b[37m\u001b[0m \u001b[1m79s\u001b[0m 6s/step - accuracy: 0.8711 - loss: 0.4339 - val_accuracy: 0.8800 - val_loss: 0.4418\n",
      "Epoch 21/25\n",
      "\u001b[1m13/13\u001b[0m \u001b[32m━━━━━━━━━━━━━━━━━━━━\u001b[0m\u001b[37m\u001b[0m \u001b[1m76s\u001b[0m 6s/step - accuracy: 0.8758 - loss: 0.3988 - val_accuracy: 0.9000 - val_loss: 0.4101\n",
      "Epoch 22/25\n",
      "\u001b[1m13/13\u001b[0m \u001b[32m━━━━━━━━━━━━━━━━━━━━\u001b[0m\u001b[37m\u001b[0m \u001b[1m72s\u001b[0m 6s/step - accuracy: 0.9139 - loss: 0.2674 - val_accuracy: 0.9000 - val_loss: 0.4834\n",
      "Epoch 23/25\n",
      "\u001b[1m13/13\u001b[0m \u001b[32m━━━━━━━━━━━━━━━━━━━━\u001b[0m\u001b[37m\u001b[0m \u001b[1m72s\u001b[0m 6s/step - accuracy: 0.9206 - loss: 0.2245 - val_accuracy: 0.8600 - val_loss: 0.5197\n",
      "Epoch 24/25\n",
      "\u001b[1m13/13\u001b[0m \u001b[32m━━━━━━━━━━━━━━━━━━━━\u001b[0m\u001b[37m\u001b[0m \u001b[1m77s\u001b[0m 6s/step - accuracy: 0.9098 - loss: 0.2348 - val_accuracy: 0.8800 - val_loss: 0.5094\n",
      "Epoch 25/25\n",
      "\u001b[1m13/13\u001b[0m \u001b[32m━━━━━━━━━━━━━━━━━━━━\u001b[0m\u001b[37m\u001b[0m \u001b[1m87s\u001b[0m 6s/step - accuracy: 0.9199 - loss: 0.2343 - val_accuracy: 0.8500 - val_loss: 0.6397\n"
     ]
    }
   ],
   "source": [
    "history=model.fit(train_datagen,epochs=25,validation_data=test_datagen)"
   ]
  },
  {
   "cell_type": "code",
   "execution_count": 91,
   "id": "f92284bf",
   "metadata": {
    "papermill": {
     "duration": 0.948537,
     "end_time": "2025-01-02T06:02:45.279891",
     "exception": false,
     "start_time": "2025-01-02T06:02:44.331354",
     "status": "completed"
    },
    "tags": []
   },
   "outputs": [
    {
     "name": "stderr",
     "output_type": "stream",
     "text": [
      "WARNING:absl:You are saving your model as an HDF5 file via `model.save()` or `keras.saving.save_model(model)`. This file format is considered legacy. We recommend using instead the native Keras format, e.g. `model.save('my_model.keras')` or `keras.saving.save_model(model, 'my_model.keras')`. \n"
     ]
    }
   ],
   "source": [
    "model.save('cnn_model.h5')"
   ]
  },
  {
   "cell_type": "markdown",
   "id": "c32a39ba",
   "metadata": {
    "papermill": {
     "duration": 0.036376,
     "end_time": "2025-01-02T06:02:45.356814",
     "exception": false,
     "start_time": "2025-01-02T06:02:45.320438",
     "status": "completed"
    },
    "tags": []
   },
   "source": [
    "## <font color='#728C11'> Model Overview"
   ]
  },
  {
   "cell_type": "code",
   "execution_count": 92,
   "id": "595a4362",
   "metadata": {
    "papermill": {
     "duration": 0.047515,
     "end_time": "2025-01-02T06:02:45.442562",
     "exception": false,
     "start_time": "2025-01-02T06:02:45.395047",
     "status": "completed"
    },
    "tags": []
   },
   "outputs": [
    {
     "data": {
      "text/plain": [
       "0.925000011920929"
      ]
     },
     "execution_count": 92,
     "metadata": {},
     "output_type": "execute_result"
    }
   ],
   "source": [
    "history.history['accuracy'][-1]"
   ]
  },
  {
   "cell_type": "code",
   "execution_count": 93,
   "id": "eeb77e18",
   "metadata": {
    "papermill": {
     "duration": 0.319462,
     "end_time": "2025-01-02T06:02:45.799828",
     "exception": false,
     "start_time": "2025-01-02T06:02:45.480366",
     "status": "completed"
    },
    "tags": []
   },
   "outputs": [
    {
     "data": {
      "image/png": "[encoded data removed]",
      "text/plain": [
       "<Figure size 640x480 with 1 Axes>"
      ]
     },
     "metadata": {},
     "output_type": "display_data"
    }
   ],
   "source": [
    "plt.plot(history.history['accuracy'],label='Accuracy')\n",
    "plt.plot(history.history['val_accuracy'],label='Val_Accuracy')\n",
    "plt.legend();"
   ]
  },
  {
   "cell_type": "markdown",
   "id": "8d447b5f",
   "metadata": {
    "papermill": {
     "duration": 0.037613,
     "end_time": "2025-01-02T06:02:45.876893",
     "exception": false,
     "start_time": "2025-01-02T06:02:45.839280",
     "status": "completed"
    },
    "tags": []
   },
   "source": [
    "## <font color='#728C11'> Testing the Model"
   ]
  },
  {
   "cell_type": "code",
   "execution_count": 94,
   "id": "e0cba2df",
   "metadata": {
    "papermill": {
     "duration": 1.932105,
     "end_time": "2025-01-02T06:02:47.846354",
     "exception": false,
     "start_time": "2025-01-02T06:02:45.914249",
     "status": "completed"
    },
    "tags": []
   },
   "outputs": [
    {
     "name": "stdout",
     "output_type": "stream",
     "text": [
      "\u001b[1m4/4\u001b[0m \u001b[32m━━━━━━━━━━━━━━━━━━━━\u001b[0m\u001b[37m\u001b[0m \u001b[1m36s\u001b[0m 7s/step\n"
     ]
    },
    {
     "data": {
      "text/plain": [
       "0.85"
      ]
     },
     "execution_count": 94,
     "metadata": {},
     "output_type": "execute_result"
    }
   ],
   "source": [
    "test_labels = test_datagen.classes\n",
    "predictions = model.predict(test_datagen)\n",
    "predicted_classes = np.argmax(predictions, axis=1)  \n",
    "accuracy_score(test_labels, predicted_classes)"
   ]
  },
  {
   "cell_type": "code",
   "execution_count": 54,
   "id": "115292ab",
   "metadata": {
    "papermill": {
     "duration": 0.333757,
     "end_time": "2025-01-02T06:02:48.220150",
     "exception": false,
     "start_time": "2025-01-02T06:02:47.886393",
     "status": "completed"
    },
    "tags": []
   },
   "outputs": [
    {
     "data": {
      "image/png": "[encoded data removed]",
      "text/plain": [
       "<Figure size 1000x800 with 1 Axes>"
      ]
     },
     "metadata": {},
     "output_type": "display_data"
    }
   ],
   "source": [
    "cm = confusion_matrix(test_labels, predicted_classes)\n",
    "disp = ConfusionMatrixDisplay(confusion_matrix=cm, display_labels=test_datagen.class_indices.keys())\n",
    "fig, ax = plt.subplots(figsize=(10, 8))\n",
    "disp.plot(ax=ax, cmap=\"viridis\", colorbar=False);"
   ]
  },
  {
   "cell_type": "code",
   "execution_count": 27,
   "id": "d7f1f6c5-4a8b-4512-b88b-6cf8fc5aac6b",
   "metadata": {},
   "outputs": [
    {
     "data": {
      "text/plain": [
       "<function print(*args, sep=' ', end='\\n', file=None, flush=False)>"
      ]
     },
     "execution_count": 27,
     "metadata": {},
     "output_type": "execute_result"
    }
   ],
   "source": [
    "print"
   ]
  },
  {
   "cell_type": "markdown",
   "id": "aeeb07ff",
   "metadata": {
    "papermill": {
     "duration": 0.042892,
     "end_time": "2025-01-02T06:02:48.347941",
     "exception": false,
     "start_time": "2025-01-02T06:02:48.305049",
     "status": "completed"
    },
    "tags": []
   },
   "source": [
    "## <font color='#728C11'>Project Results</font>\n",
    "\n",
    "The model achieved an accuracy score of **84%**, demonstrating strong performance in classifying the five types of grapevine leaves. The confusion matrix shows that the model performs well for most classes, with **Ak**, **Ala_Idris**, and **Buzgulu** being classified accurately. Some misclassifications occurred between **Ak** and **Ala_Idris**, but these are relatively minor."
   ]
  }
 ],
 "metadata": {
  "kaggle": {
   "accelerator": "nvidiaTeslaT4",
   "dataSources": [
    {
     "datasetId": 2049795,
     "sourceId": 3400473,
     "sourceType": "datasetVersion"
    }
   ],
   "dockerImageVersionId": 30823,
   "isGpuEnabled": true,
   "isInternetEnabled": true,
   "language": "python",
   "sourceType": "notebook"
  },
  "kernelspec": {
   "display_name": "Python 3 (ipykernel)",
   "language": "python",
   "name": "python3"
  },
  "language_info": {
   "codemirror_mode": {
    "name": "ipython",
    "version": 3
   },
   "file_extension": ".py",
   "mimetype": "text/x-python",
   "name": "python",
   "nbconvert_exporter": "python",
   "pygments_lexer": "ipython3",
   "version": "3.12.7"
  },
  "papermill": {
   "default_parameters": {},
   "duration": 267.388418,
   "end_time": "2025-01-02T06:02:50.212895",
   "environment_variables": {},
   "exception": null,
   "input_path": "__notebook__.ipynb",
   "output_path": "__notebook__.ipynb",
   "parameters": {},
   "start_time": "2025-01-02T05:58:22.824477",
   "version": "2.6.0"
  }
 },
 "nbformat": 4,
 "nbformat_minor": 5
}
